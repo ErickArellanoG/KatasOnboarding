{
 "cells": [
  {
   "cell_type": "markdown",
   "metadata": {},
   "source": [
    "# Declaraciones if, else y elif"
   ]
  },
  {
   "cell_type": "code",
   "execution_count": 1,
   "metadata": {},
   "outputs": [
    {
     "name": "stdout",
     "output_type": "stream",
     "text": [
      "Todo en orden\n"
     ]
    }
   ],
   "source": [
    "# Problema 1\n",
    "\n",
    "asteroide=19\n",
    "\n",
    "if asteroide>25:\n",
    "    print('Peligro, asteoride acercandose')\n",
    "else:\n",
    "    print('Todo en orden')"
   ]
  },
  {
   "cell_type": "code",
   "execution_count": 2,
   "metadata": {},
   "outputs": [
    {
     "name": "stdout",
     "output_type": "stream",
     "text": [
      "Una estela de luz arriba\n"
     ]
    }
   ],
   "source": [
    "# Problema 2\n",
    "\n",
    "asteroide=25\n",
    "\n",
    "if asteroide>20:\n",
    "    print('Una estela de luz arriba')\n",
    "elif asteroide==20:\n",
    "    print('Una estela de luz arriba')\n",
    "else:\n",
    "    print('Todo normal')"
   ]
  },
  {
   "cell_type": "markdown",
   "metadata": {},
   "source": [
    "# Operadores and y or"
   ]
  },
  {
   "cell_type": "code",
   "execution_count": 3,
   "metadata": {},
   "outputs": [
    {
     "name": "stdout",
     "output_type": "stream",
     "text": [
      "Una estela de luz arriba\n"
     ]
    }
   ],
   "source": [
    "# Problema 3\n",
    "\n",
    "vel_asteroide=25\n",
    "tam_asteroide=40\n",
    "\n",
    "if vel_asteroide>25 and tam_asteroide > 25:\n",
    "    print('Peligro, un asteroide se esta acercando')\n",
    "elif vel_asteroide>=20:\n",
    "    print('Una estela de luz arriba')\n",
    "elif tam_asteroide<25:\n",
    "    print('Todo normal')\n",
    "else:\n",
    "    print('Todo normal')"
   ]
  }
 ],
 "metadata": {
  "interpreter": {
   "hash": "01d8df7005bb3e4dbfe753061709ba54bcb910dcd86e53bfbd352317b98f9dbb"
  },
  "kernelspec": {
   "display_name": "Python 3.9.10 64-bit (windows store)",
   "language": "python",
   "name": "python3"
  },
  "language_info": {
   "codemirror_mode": {
    "name": "ipython",
    "version": 3
   },
   "file_extension": ".py",
   "mimetype": "text/x-python",
   "name": "python",
   "nbconvert_exporter": "python",
   "pygments_lexer": "ipython3",
   "version": "3.9.10"
  },
  "orig_nbformat": 4
 },
 "nbformat": 4,
 "nbformat_minor": 2
}
