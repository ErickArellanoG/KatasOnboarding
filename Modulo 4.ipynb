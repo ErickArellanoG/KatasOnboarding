{
 "cells": [
  {
   "cell_type": "code",
   "execution_count": 3,
   "metadata": {},
   "outputs": [
    {
     "name": "stdout",
     "output_type": "stream",
     "text": [
      "On average, the Moon moves 4cm away from the Earth every year\n"
     ]
    }
   ],
   "source": [
    "# Ejercicio 1\n",
    "\n",
    "# Texto dividido\n",
    "\n",
    "text=\"\"\"Intersting facts about Moon. The Moon is Earth's only satallite. There are several interesting facts about the Moon and how it affects. On average, the Moon moves 4cm away from the Earth every year. This yearly drift is not significant enough to cause immediate effectos on Earth.\"\"\"\n",
    "\n",
    "text_parts=text.split('. ')\n",
    "text_parts\n",
    "\n",
    "# Palabras clave\n",
    "\n",
    "key_words=[\"average\",\"temperature\",\"distance\"]\n",
    "\n",
    "# Ciclo for para recorrer la cadena\n",
    "\n",
    "for sentence in text_parts:\n",
    "    for key_word in key_words:\n",
    "        if key_word in sentence:\n",
    "            print(sentence)\n",
    "            break"
   ]
  },
  {
   "cell_type": "code",
   "execution_count": 5,
   "metadata": {},
   "outputs": [
    {
     "name": "stdout",
     "output_type": "stream",
     "text": [
      "--------------------------------------------------------------------------------\n",
      "Nombre del planeta: Marte\n",
      "Gravedad en Ganimedes: 1.4300000000000002m/s2\n",
      "--------------------------------------------------------------------------------\n",
      "Nombre del planeta: Marte\n",
      "Gravedad en Ganimedes: 1.4300000000000002m/s2\n",
      "Datos de gravedad sobre: Ganimedes\n",
      "-------------------------------------------------------------\n",
      "Nombre del planeta: Marte\n",
      "Gravedad en Ganimedes: 0.00143m/s2\n"
     ]
    }
   ],
   "source": [
    "# Ejercicio 2\n",
    "\n",
    "planeta= 'Marte'\n",
    "gravedad= 0.00143\n",
    "nombre= 'Ganimedes'\n",
    "\n",
    "title= f'Datos de la gravedad sobre {nombre}'\n",
    "\n",
    "hechos= f\"\"\"{'-'*80}\n",
    "Nombre del planeta: {planeta}\n",
    "Gravedad en {nombre}: {gravedad*1000}m/s2\"\"\"\n",
    "\n",
    "template= f\"\"\"{title.title()} {hechos}\"\"\"\n",
    "print(hechos)\n",
    "\n",
    "planeta= 'Marte'\n",
    "gravedad= 0.00143\n",
    "nombre= 'Ganimedes'\n",
    "\n",
    "print(hechos)\n",
    "\n",
    "new_template= \"\"\"Datos de gravedad sobre: {nombre}\n",
    "-------------------------------------------------------------\n",
    "Nombre del planeta: {planeta}\n",
    "Gravedad en {nombre}: {gravedad}m/s2\"\"\"\n",
    "\n",
    "print(new_template.format(nombre=nombre, planeta=planeta, gravedad=gravedad))"
   ]
  }
 ],
 "metadata": {
  "interpreter": {
   "hash": "01d8df7005bb3e4dbfe753061709ba54bcb910dcd86e53bfbd352317b98f9dbb"
  },
  "kernelspec": {
   "display_name": "Python 3.9.10 64-bit (windows store)",
   "language": "python",
   "name": "python3"
  },
  "language_info": {
   "codemirror_mode": {
    "name": "ipython",
    "version": 3
   },
   "file_extension": ".py",
   "mimetype": "text/x-python",
   "name": "python",
   "nbconvert_exporter": "python",
   "pygments_lexer": "ipython3",
   "version": "3.9.10"
  },
  "orig_nbformat": 4
 },
 "nbformat": 4,
 "nbformat_minor": 2
}
